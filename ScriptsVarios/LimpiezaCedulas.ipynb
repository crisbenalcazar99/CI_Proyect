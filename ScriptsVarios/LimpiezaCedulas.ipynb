{
 "cells": [
  {
   "cell_type": "code",
   "id": "initial_id",
   "metadata": {
    "collapsed": true,
    "ExecuteTime": {
     "end_time": "2024-06-07T19:10:24.118221Z",
     "start_time": "2024-06-07T19:10:24.101402Z"
    }
   },
   "source": [
    "import pandas as pd\n",
    "import os\n",
    "import fitz\n",
    "import cv2\n",
    "import numpy as np\n",
    "import matplotlib.pyplot as plt"
   ],
   "outputs": [],
   "execution_count": 91
  },
  {
   "metadata": {
    "ExecuteTime": {
     "end_time": "2024-06-07T19:10:24.881673Z",
     "start_time": "2024-06-07T19:10:24.876661Z"
    }
   },
   "cell_type": "code",
   "source": [
    "#Se procede a cargar la ubicacion de las cedulas de identidad para renombrarlas las mismas\n",
    "path_database_ci = r\"C:\\Users\\crisb\\Documents\\Trabajo\\DataBases\\Raw Info\\Filter\\1_1.pdf\""
   ],
   "id": "1e682d2af121e0df",
   "outputs": [],
   "execution_count": 92
  },
  {
   "metadata": {
    "ExecuteTime": {
     "end_time": "2024-06-07T19:12:42.015227Z",
     "start_time": "2024-06-07T19:12:41.935411Z"
    }
   },
   "cell_type": "code",
   "source": [
    "pdf_document = fitz.open(path_database_ci)\n",
    "page = pdf_document.load_page(0)\n",
    "zoom_matriz = 4\n",
    "# Crear una matriz de transformación para aumentar la resolución\n",
    "matrix = fitz.Matrix(zoom_matriz, zoom_matriz)\n",
    "image = page.get_pixmap(matrix=matrix)\n",
    "img_array = np.frombuffer(image.samples, dtype=np.uint8).reshape(image.h, image.w, 3)\n",
    "img = cv2.cvtColor(img_array, cv2.COLOR_RGB2BGR)\n",
    "gray = cv2.cvtColor(img, cv2.COLOR_BGR2GRAY)"
   ],
   "id": "4f7713282d59134",
   "outputs": [],
   "execution_count": 100
  },
  {
   "metadata": {
    "ExecuteTime": {
     "end_time": "2024-06-07T19:12:43.424813Z",
     "start_time": "2024-06-07T19:12:43.375586Z"
    }
   },
   "cell_type": "code",
   "source": [
    "%matplotlib qt\n",
    "plt.imshow(img)"
   ],
   "id": "666cd0826fb4a061",
   "outputs": [
    {
     "data": {
      "text/plain": [
       "<matplotlib.image.AxesImage at 0x14e088b3970>"
      ]
     },
     "execution_count": 101,
     "metadata": {},
     "output_type": "execute_result"
    }
   ],
   "execution_count": 101
  },
  {
   "metadata": {
    "ExecuteTime": {
     "end_time": "2024-06-07T19:12:43.913184Z",
     "start_time": "2024-06-07T19:12:43.896161Z"
    }
   },
   "cell_type": "code",
   "source": "#cv2.imwrite(r\"C:\\Users\\crisb\\Documents\\Trabajo\\DataBases\\Raw Info\\Filter\\test.png\", img)",
   "id": "55ad480fe788fa14",
   "outputs": [],
   "execution_count": 102
  },
  {
   "metadata": {
    "ExecuteTime": {
     "end_time": "2024-06-07T19:12:45.542092Z",
     "start_time": "2024-06-07T19:12:45.515496Z"
    }
   },
   "cell_type": "code",
   "source": [
    "# Aplicar umbralización para resaltar los bordes\n",
    "_, thresh = cv2.threshold(gray, 0, 255, cv2.THRESH_BINARY_INV + cv2.THRESH_OTSU)\n",
    "\n",
    "# Encontrar contornos en la imagen binarizada\n",
    "contours, hierarchy  = cv2.findContours(thresh, cv2.RETR_EXTERNAL, cv2.CHAIN_APPROX_SIMPLE)\n",
    "cv2.drawContours(img, contours, -1, (0, 255, 0), 3)"
   ],
   "id": "2a46a8a74bc27828",
   "outputs": [
    {
     "data": {
      "text/plain": [
       "array([[[255, 255, 255],\n",
       "        [255, 255, 255],\n",
       "        [255, 255, 255],\n",
       "        ...,\n",
       "        [255, 255, 255],\n",
       "        [255, 255, 255],\n",
       "        [255, 255, 255]],\n",
       "\n",
       "       [[255, 255, 255],\n",
       "        [255, 255, 255],\n",
       "        [255, 255, 255],\n",
       "        ...,\n",
       "        [255, 255, 255],\n",
       "        [255, 255, 255],\n",
       "        [255, 255, 255]],\n",
       "\n",
       "       [[255, 255, 255],\n",
       "        [255, 255, 255],\n",
       "        [255, 255, 255],\n",
       "        ...,\n",
       "        [255, 255, 255],\n",
       "        [255, 255, 255],\n",
       "        [255, 255, 255]],\n",
       "\n",
       "       ...,\n",
       "\n",
       "       [[255, 255, 255],\n",
       "        [255, 255, 255],\n",
       "        [255, 255, 255],\n",
       "        ...,\n",
       "        [255, 255, 255],\n",
       "        [255, 255, 255],\n",
       "        [255, 255, 255]],\n",
       "\n",
       "       [[255, 255, 255],\n",
       "        [255, 255, 255],\n",
       "        [255, 255, 255],\n",
       "        ...,\n",
       "        [255, 255, 255],\n",
       "        [255, 255, 255],\n",
       "        [255, 255, 255]],\n",
       "\n",
       "       [[255, 255, 255],\n",
       "        [255, 255, 255],\n",
       "        [255, 255, 255],\n",
       "        ...,\n",
       "        [255, 255, 255],\n",
       "        [255, 255, 255],\n",
       "        [255, 255, 255]]], dtype=uint8)"
      ]
     },
     "execution_count": 103,
     "metadata": {},
     "output_type": "execute_result"
    }
   ],
   "execution_count": 103
  },
  {
   "metadata": {
    "ExecuteTime": {
     "end_time": "2024-06-07T19:12:46.786891Z",
     "start_time": "2024-06-07T19:12:46.746733Z"
    }
   },
   "cell_type": "code",
   "source": "plt.imshow(img)",
   "id": "df30274b638bac94",
   "outputs": [
    {
     "data": {
      "text/plain": [
       "<matplotlib.image.AxesImage at 0x14e088dc0d0>"
      ]
     },
     "execution_count": 104,
     "metadata": {},
     "output_type": "execute_result"
    }
   ],
   "execution_count": 104
  },
  {
   "metadata": {
    "ExecuteTime": {
     "end_time": "2024-06-07T18:46:35.948461Z",
     "start_time": "2024-06-07T18:46:35.942039Z"
    }
   },
   "cell_type": "code",
   "source": [
    "def encontrar_contorno_mas_grande(contornos):\n",
    "    if contornos:\n",
    "        return max(contornos, key=cv2.contourArea)\n",
    "    return None"
   ],
   "id": "9556ab74928ffc56",
   "outputs": [],
   "execution_count": 50
  },
  {
   "metadata": {},
   "cell_type": "code",
   "outputs": [],
   "execution_count": null,
   "source": "",
   "id": "b5225a3323a68c65"
  }
 ],
 "metadata": {
  "kernelspec": {
   "display_name": "Python 3",
   "language": "python",
   "name": "python3"
  },
  "language_info": {
   "codemirror_mode": {
    "name": "ipython",
    "version": 2
   },
   "file_extension": ".py",
   "mimetype": "text/x-python",
   "name": "python",
   "nbconvert_exporter": "python",
   "pygments_lexer": "ipython2",
   "version": "2.7.6"
  }
 },
 "nbformat": 4,
 "nbformat_minor": 5
}
